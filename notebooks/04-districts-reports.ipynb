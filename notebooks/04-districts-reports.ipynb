{
 "cells": [
  {
   "cell_type": "code",
   "execution_count": 2,
   "id": "b7ac75ae",
   "metadata": {},
   "outputs": [],
   "source": [
    "import pandas as pd\n",
    "import os"
   ]
  },
  {
   "cell_type": "code",
   "execution_count": null,
   "id": "7c995396",
   "metadata": {},
   "outputs": [],
   "source": [
    "# Avergae GCP per district\n",
    "# Number of at_risks students per district\n",
    "# Engagement rate per district\n",
    "\n",
    "\n",
    "# Extract District Information \n",
    "# 001 Washington District\n",
    "# 002 New York District\n",
    "\n",
    "# Create a table for districts\n",
    "#distric_id\n",
    "# district_name"
   ]
  },
  {
   "cell_type": "code",
   "execution_count": 64,
   "id": "098c5750",
   "metadata": {},
   "outputs": [],
   "source": [
    "# Define file paths\n",
    "raw_data = '../data/raw/'\n",
    "processed_data = '../data/processed/'"
   ]
  },
  {
   "cell_type": "code",
   "execution_count": null,
   "id": "f58555be",
   "metadata": {},
   "outputs": [],
   "source": [
    "def create_district_mapping(filepath: str) -> str:\n",
    "    filename = filepath.split('/')[-1].split(\".\")[0]\n",
    "    \n",
    "    district_mapping = {\n",
    "        'school_alpha': 'Washington District',\n",
    "        'school_beta': 'New York District',\n",
    "        'school_gamma': 'New York District'\n",
    "    }\n",
    "    return district_mapping[filename]"
   ]
  },
  {
   "cell_type": "code",
   "execution_count": 65,
   "id": "0f349e3f",
   "metadata": {},
   "outputs": [],
   "source": [
    "def create_district_csv(filepath: str,data:pd.read_csv) -> dict:\n",
    "    filename = filepath.split('/')[-1].split(\".\")[0]\n",
    "    \n",
    "    district_mapping = {\n",
    "        'school_alpha': '001_Washington_District',\n",
    "        'school_beta': '002_New_York_District',\n",
    "        'school_gamma': '002_New_York_District'\n",
    "    }\n",
    "\n",
    "    data.to_csv(os.path.join(processed_data,f\"{district_mapping[filename]}.csv\"), index=False)\n",
    "    "
   ]
  },
  {
   "cell_type": "code",
   "execution_count": 60,
   "id": "8541981d",
   "metadata": {},
   "outputs": [
    {
     "data": {
      "text/plain": [
       "'Washington District'"
      ]
     },
     "execution_count": 60,
     "metadata": {},
     "output_type": "execute_result"
    }
   ],
   "source": [
    "create_district_mapping(\"school_alpha.csv\")"
   ]
  },
  {
   "cell_type": "code",
   "execution_count": 58,
   "id": "1624ff70",
   "metadata": {},
   "outputs": [],
   "source": [
    "def clean_data(file_path):\n",
    "\n",
    "    df = pd.read_csv(file_path)\n",
    "    df.columns = df.columns.str.strip().str.lower().str.replace(' ', '_')\n",
    "    \n",
    "    column_map = {\n",
    "    'id': 'student_id',\n",
    "    'full_name': 'full_name',\n",
    "    'sex': 'gender',\n",
    "    'maths': 'math_score',\n",
    "    'english_language': 'english_score',\n",
    "    'sci': 'science_score',\n",
    "    'attendance_%': 'attendance_rate',\n",
    "    'mathscore': 'math_score',\n",
    "    'englishscore': 'english_score',\n",
    "    'english_score': 'english_score',\n",
    "    'science_score': 'science_score',\n",
    "    'attendance': 'attendance_rate',\n",
    "    'Sex': 'gender',\n",
    "    'Maths': 'math_score'\n",
    "}\n",
    "\n",
    "    df.rename(columns=column_map, inplace=True)\n",
    "\n",
    "\n",
    "    df['math_score'] = pd.to_numeric(df['math_score'], errors='coerce')\n",
    "    df['english_score'] = pd.to_numeric(df['english_score'], errors='coerce')\n",
    "    df['science_score'] = pd.to_numeric(df['science_score'], errors='coerce')\n",
    "    df['attendance_rate'] = pd.to_numeric(df['attendance_rate'], errors='coerce')\n",
    "\n",
    "    return df[['student_id', 'full_name', 'gender', 'math_score',\n",
    "                'english_score', 'science_score', 'attendance_rate', 'term']]"
   ]
  },
  {
   "cell_type": "code",
   "execution_count": 61,
   "id": "af1283b4",
   "metadata": {},
   "outputs": [],
   "source": [
    "file_names = ['school_alpha.csv', 'school_beta.csv', 'school_gamma.csv']\n",
    "raw_files = [os.path.join(raw_data, f) for f in file_names]\n",
    "\n",
    "# raw_files"
   ]
  },
  {
   "cell_type": "code",
   "execution_count": 66,
   "id": "148d2dbd",
   "metadata": {},
   "outputs": [],
   "source": [
    "more_data = []\n",
    "for file in raw_files:\n",
    "    data = clean_data(file)\n",
    "    data['district'] = create_district_mapping(file)\n",
    "    more_data.append(data)\n",
    "all_data = pd.concat(more_data, ignore_index=True)\n",
    " "
   ]
  },
  {
   "cell_type": "code",
   "execution_count": 67,
   "id": "03137ae7",
   "metadata": {},
   "outputs": [],
   "source": [
    "for file in raw_files:\n",
    "    data = clean_data(file)\n",
    "    data['district'] = create_district_mapping(file)\n",
    "    create_district_csv(file,data)"
   ]
  },
  {
   "cell_type": "code",
   "execution_count": 68,
   "id": "3caccda7",
   "metadata": {},
   "outputs": [],
   "source": [
    "all_data.to_csv(os.path.join(processed_data, 'all_std_districts.csv'), index=False)"
   ]
  },
  {
   "cell_type": "code",
   "execution_count": null,
   "id": "ebca90e4",
   "metadata": {},
   "outputs": [],
   "source": []
  }
 ],
 "metadata": {
  "kernelspec": {
   "display_name": "Python 3",
   "language": "python",
   "name": "python3"
  },
  "language_info": {
   "codemirror_mode": {
    "name": "ipython",
    "version": 3
   },
   "file_extension": ".py",
   "mimetype": "text/x-python",
   "name": "python",
   "nbconvert_exporter": "python",
   "pygments_lexer": "ipython3",
   "version": "3.8.20"
  }
 },
 "nbformat": 4,
 "nbformat_minor": 5
}
