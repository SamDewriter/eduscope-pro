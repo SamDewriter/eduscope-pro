{
 "cells": [
  {
   "cell_type": "code",
   "execution_count": 3,
   "id": "b7ac75ae",
   "metadata": {},
   "outputs": [],
   "source": [
    "import pandas as pd\n",
    "import os"
   ]
  },
  {
   "cell_type": "code",
   "execution_count": null,
   "id": "7c995396",
   "metadata": {},
   "outputs": [],
   "source": [
    "# Avergae GCP per district\n",
    "# Number of at_risks students per district\n",
    "# Engagement rate per district\n",
    "\n",
    "\n",
    "# Extract District Information \n",
    "# 001 Washington District\n",
    "# 002 New York District\n",
    "\n",
    "# Create a table for districts\n",
    "#distric_id\n",
    "# district_name"
   ]
  },
  {
   "cell_type": "code",
   "execution_count": 59,
   "id": "098c5750",
   "metadata": {},
   "outputs": [],
   "source": [
    "# Define file paths\n",
    "raw_data = '../data/raw/'\n",
    "processed_data = '../data/processed/'\n",
    "\n"
   ]
  },
  {
   "cell_type": "code",
   "execution_count": 35,
   "id": "f58555be",
   "metadata": {},
   "outputs": [],
   "source": [
    "def create_district_mapping(filepath):\n",
    "    filename = filepath.split('/')[-1].split(\".\")[0]\n",
    "\n",
    "    district_mapping = {\n",
    "        'school_alpha': 'Washington District',\n",
    "        'school_beta': 'New York District',\n",
    "        'school_gamma': 'New York District'\n",
    "    }\n",
    "\n",
    "     \n",
    "    return district_mapping[filename]\n",
    "    \n",
    "    \n",
    "\n",
    "    \n",
    "    "
   ]
  },
  {
   "cell_type": "code",
   "execution_count": 15,
   "id": "1624ff70",
   "metadata": {},
   "outputs": [],
   "source": [
    "def clean_data(file_path):\n",
    "\n",
    "    df = pd.read_csv(file_path)\n",
    "    df.columns = df.columns.str.strip().str.lower().str.replace(' ', '_')\n",
    "    \n",
    "    column_map = {\n",
    "    'id': 'student_id',\n",
    "    'full_name': 'full_name',\n",
    "    'sex': 'gender',\n",
    "    'maths': 'math_score',\n",
    "    'english_language': 'english_score',\n",
    "    'sci': 'science_score',\n",
    "    'attendance_%': 'attendance_rate',\n",
    "    'mathscore': 'math_score',\n",
    "    'englishscore': 'english_score',\n",
    "    'english_score': 'english_score',\n",
    "    'science_score': 'science_score',\n",
    "    'attendance': 'attendance_rate',\n",
    "    'Sex': 'gender',\n",
    "    'Maths': 'math_score'\n",
    "}\n",
    "\n",
    "    df.rename(columns=column_map, inplace=True)\n",
    "\n",
    "\n",
    "    df['math_score'] = pd.to_numeric(df['math_score'], errors='coerce')\n",
    "    df['english_score'] = pd.to_numeric(df['english_score'], errors='coerce')\n",
    "    df['science_score'] = pd.to_numeric(df['science_score'], errors='coerce')\n",
    "    df['attendance_rate'] = pd.to_numeric(df['attendance_rate'], errors='coerce')\n",
    "\n",
    "    return df[['student_id', 'full_name', 'gender', 'math_score',\n",
    "                'english_score', 'science_score', 'attendance_rate', 'term']]"
   ]
  },
  {
   "cell_type": "code",
   "execution_count": 58,
   "id": "af1283b4",
   "metadata": {},
   "outputs": [],
   "source": [
    "file_names = ['school_alpha.csv', 'school_beta.csv', 'school_gamma.csv']\n",
    "raw_files = [os.path.join(raw_data, f) for f in file_names]\n",
    "\n",
    "\n"
   ]
  },
  {
   "cell_type": "code",
   "execution_count": 55,
   "id": "148d2dbd",
   "metadata": {},
   "outputs": [],
   "source": [
    "more_data = []\n",
    "\n",
    "for file in raw_files:\n",
    "    clean_file = clean_data(file)\n",
    "    clean_file['district'] = create_district_mapping(file)\n",
    "    \n",
    "    more_data.append(clean_file)\n",
    "all_data = pd.concat(more_data, ignore_index=True)\n",
    "\n",
    "\n",
    "\n",
    " "
   ]
  },
  {
   "cell_type": "code",
   "execution_count": 56,
   "id": "8c655f4e",
   "metadata": {},
   "outputs": [],
   "source": [
    "all_data.to_csv(os.path.join(processed_data, 'schools_with_district.csv'), index=False)"
   ]
  },
  {
   "cell_type": "code",
   "execution_count": 57,
   "id": "62ae8fb3",
   "metadata": {},
   "outputs": [],
   "source": [
    "sch_with_district = pd.read_csv(os.path.join(processed_data, 'schools_with_district.csv'))\n",
    "\n",
    "nyc = sch_with_district[sch_with_district['district' ] == 'New York District']\n",
    "dc = sch_with_district[sch_with_district['district' ] == 'Washington District']\n",
    "\n",
    "nyc.to_csv(os.path.join(processed_data, '002_New_York_District.csv'), index=False)\n",
    "dc.to_csv(os.path.join(processed_data, '001_Washington_District.csv'), index=False)"
   ]
  },
  {
   "cell_type": "markdown",
   "id": "21297b97",
   "metadata": {},
   "source": [
    "### Separates washington and new york districts \n",
    "### By appending to lists"
   ]
  },
  {
   "cell_type": "code",
   "execution_count": null,
   "id": "ebca90e4",
   "metadata": {},
   "outputs": [],
   "source": []
  }
 ],
 "metadata": {
  "kernelspec": {
   "display_name": "Python 3",
   "language": "python",
   "name": "python3"
  },
  "language_info": {
   "codemirror_mode": {
    "name": "ipython",
    "version": 3
   },
   "file_extension": ".py",
   "mimetype": "text/x-python",
   "name": "python",
   "nbconvert_exporter": "python",
   "pygments_lexer": "ipython3",
   "version": "3.8.20"
  }
 },
 "nbformat": 4,
 "nbformat_minor": 5
}
